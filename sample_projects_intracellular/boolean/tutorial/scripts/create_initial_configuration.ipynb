{
 "cells": [
  {
   "cell_type": "markdown",
   "metadata": {},
   "source": [
    "### Jupyter notebook to configure an initial state of the simulation"
   ]
  },
  {
   "cell_type": "markdown",
   "metadata": {},
   "source": [
    "In the following notebook, the user can configure and create the initial cells position for the simulation. It is necessary to specify which .xml file is used for the simulation and the center of each cell population."
   ]
  },
  {
   "cell_type": "code",
   "execution_count": 4,
   "metadata": {},
   "outputs": [],
   "source": [
    "import csv\n",
    "import xml.etree.ElementTree as ET\n",
    "import math\n",
    "import os"
   ]
  },
  {
   "cell_type": "code",
   "execution_count": 5,
   "metadata": {},
   "outputs": [],
   "source": [
    "def create_cells_on_sphere(cell_radius, shape_radius, shape_center, domain_size):\n",
    "    cells = []\n",
    "    xc = 0\n",
    "    yc = 0\n",
    "    zc = 0\n",
    "    x_spacing = cell_radius * math.sqrt(3)\n",
    "    y_spacing = cell_radius * 2\n",
    "    z_spacing = cell_radius * math.sqrt(3)\n",
    "\n",
    "    tempPoint = [0.0, 0.0, 0.0]\n",
    "\n",
    "    for z in range(int(shape_center[2] - shape_radius), int(shape_center[2] + shape_radius), int(z_spacing)):\n",
    "        for x in range(int(shape_center[0] - shape_radius), int(shape_center[0] + shape_radius), int(x_spacing)):\n",
    "            for y in range(int(shape_center[1] - shape_radius), int(shape_center[1] + shape_radius), int(y_spacing)):\n",
    "                \n",
    "                tempPoint[0] = x + (zc % 2) * 0.5 * cell_radius\n",
    "                tempPoint[1] = y + (xc % 2) * cell_radius\n",
    "                tempPoint[2] = z\n",
    "\n",
    "                if math.sqrt((tempPoint[0] - shape_center[0]) ** 2 + (tempPoint[1] - shape_center[1]) ** 2 + (tempPoint[2] - shape_center[2]) ** 2) < shape_radius:\n",
    "                    cells.append(tuple(tempPoint[:]))\n",
    "\n",
    "                yc += 1\n",
    "            xc += 1\n",
    "        zc += 1\n",
    "        \n",
    "    filtered_cells = []\n",
    "\n",
    "    for position in cells:\n",
    "        if (\n",
    "            domain_size[0][0] <= position[0] <= domain_size[0][1] and\n",
    "            domain_size[1][0] <= position[1] <= domain_size[1][1] and\n",
    "            domain_size[2][0] <= position[2] <= domain_size[2][1]\n",
    "        ):\n",
    "            filtered_cells.append(position)\n",
    "\n",
    "    return filtered_cells\n",
    "\n",
    "def create_cell_disc_positions(cell_radius, disc_radius, centers, domain_size):\n",
    "    cell_spacing = 0.95 * 2.0 * cell_radius\n",
    "    x = 0\n",
    "    y = 0\n",
    "    x_outer = 0\n",
    "\n",
    "    positions = []\n",
    "    tempPoint = [0.0, 0.0, 0.0]\n",
    "\n",
    "    n = 0\n",
    "    while(y < disc_radius):\n",
    "        x = 0.0\n",
    "        if(n%2 == 1):\n",
    "            x = 0.5 * cell_spacing\n",
    "        x_outer = math.sqrt(disc_radius**2 - y**2)\n",
    "        while(x < x_outer):\n",
    "            tempPoint[0]= x + centers[0]\n",
    "            tempPoint[1]= y + centers[1]\n",
    "            tempPoint[2]= 0.0\n",
    "            positions.append(tempPoint[:])\n",
    "            if(math.fabs(y) > 0.01):\n",
    "                tempPoint[0]= x + centers[0]\n",
    "                tempPoint[1]= -y + centers[1]\n",
    "                tempPoint[2]= 0.0\n",
    "                positions.append(tempPoint[:])\n",
    "            if(math.fabs(x) > 0.01):\n",
    "                tempPoint[0]= -x + centers[0]\n",
    "                tempPoint[1]= y + centers[1]\n",
    "                tempPoint[2]= 0.0\n",
    "                positions.append(tempPoint[:])\n",
    "                if(math.fabs(y) > 0.01):\n",
    "                    tempPoint[0]= -x + centers[0]\n",
    "                    tempPoint[1]= -y + centers[1]\n",
    "                    tempPoint[2]= 0.0\n",
    "                    positions.append(tempPoint[:])\n",
    "            x = x + cell_spacing\n",
    "        \n",
    "        y = y + (cell_spacing* (math.sqrt(3.0)/2))\n",
    "        n = n + 1\n",
    "\n",
    "    filtered_cells = []\n",
    "\n",
    "    for position in positions:\n",
    "        if (\n",
    "            domain_size[0][0] <= position[0] <= domain_size[0][1] and\n",
    "            domain_size[1][0] <= position[1] <= domain_size[1][1] and\n",
    "            domain_size[2][0] <= position[2] <= domain_size[2][1]\n",
    "        ):\n",
    "            filtered_cells.append(position)\n",
    "\n",
    "    return filtered_cells"
   ]
  },
  {
   "cell_type": "code",
   "execution_count": 6,
   "metadata": {},
   "outputs": [],
   "source": [
    "def write_csv_file(positions, cell_type):\n",
    "    if os.path.exists(\"./cells.csv\"):\n",
    "        with open(\"./cells.csv\", mode='a', newline='') as file:\n",
    "            writer = csv.writer(file)\n",
    "            for point in positions:\n",
    "                final_point = (*point, cell_type)\n",
    "                writer.writerow(final_point)\n",
    "    else:\n",
    "        with open(\"./cells.csv\", mode='w', newline='') as file:\n",
    "            writer = csv.writer(file)\n",
    "            for point in positions:\n",
    "                final_point = (*point, cell_type)\n",
    "                writer.writerow(final_point)\n",
    "    print(\"CSV file created successfully.\")\n",
    "    return\n",
    "    "
   ]
  },
  {
   "cell_type": "code",
   "execution_count": 7,
   "metadata": {},
   "outputs": [],
   "source": [
    "def create_init_file(config_file, cell_types, centers, radii):\n",
    "    defined_domain = []\n",
    "    ID_list = []\n",
    "    volume_list = []\n",
    "    tree = ET.parse(config_file)\n",
    "    root = tree.getroot()\n",
    "    for neighbor in root.iter('cell_definition'):\n",
    "        for cell_type in cell_types:\n",
    "            if neighbor.attrib['name'] == cell_type:\n",
    "                ID_list.append(int(neighbor.attrib['ID']))\n",
    "                for elem in neighbor.iter('volume'):\n",
    "                     volume_list.append(int(elem.find('total').text))\n",
    "    if ID_list is []:\n",
    "        print(\"no cell types found in this xml, check the name of the cell types defined in your config file\")\n",
    "        for neighbor in root.iter('cell_definition'):\n",
    "            print(neighbor.attrib[\"name\"])\n",
    "        return\n",
    "\n",
    "    domain = root.find(\"domain\")\n",
    "    dim =  domain.find(\"use_2D\")\n",
    "    defined_domain.append([int(domain.find(\"x_min\").text), int(domain.find(\"x_max\").text)])\n",
    "    defined_domain.append([int(domain.find(\"y_min\").text), int(domain.find(\"y_max\").text)])\n",
    "    defined_domain.append([int(domain.find(\"z_min\").text), int(domain.find(\"z_max\").text)])\n",
    "    if (dim.text == \"true\"):\n",
    "        print(\"using 2D\")\n",
    "        i=0\n",
    "        for ID in ID_list:\n",
    "            cell_radius = (3 * volume_list[int(i)] / (4 * math.pi))**(1/3)          \n",
    "            positions = create_cell_disc_positions(cell_radius, radii[i], centers[i], defined_domain)\n",
    "            write_csv_file(positions, int(ID))\n",
    "            i += 1\n",
    "    else:\n",
    "        i=0\n",
    "        for ID in ID_list:\n",
    "            cell_radius = (3 * volume_list[int(i)] / (4 * math.pi))**(1/3)\n",
    "            positions = create_cells_on_sphere(cell_radius, radii[i], centers[i], defined_domain)\n",
    "            write_csv_file(positions, int(ID))\n",
    "            i += 1\n",
    "\n",
    "    return\n",
    "        \n",
    "    \n",
    "            \n",
    "\n"
   ]
  },
  {
   "cell_type": "code",
   "execution_count": 11,
   "metadata": {},
   "outputs": [],
   "source": [
    "config_file_cell_cycle = \"../config/cell_cycle/PhysiCell_settings_cell_cycle_2D.xml\"\n",
    "config_file_differentiation = \"../config/differentiation/PhysiCell_settings_2D_diff.xml\"\n",
    "# insert here the name of the configuration file"
   ]
  },
  {
   "cell_type": "code",
   "execution_count": 12,
   "metadata": {},
   "outputs": [],
   "source": [
    "cell_types = [\"default\"] # insert here the cell types you want to include as string --> ex(2 cell types): [\"T0\", \"dendritic_cell\"]\n",
    "centers = [[0, 0, 0]] # insert the center coordinate for each cell type --> ex(2 cell types for 3D simulation): [[50, 50, 10], [150, 150, 10]] \n",
    "radii = [30] # insert here the radius for each cell type --> ex(2 cell types): [25, 60]"
   ]
  },
  {
   "cell_type": "code",
   "execution_count": 13,
   "metadata": {},
   "outputs": [
    {
     "name": "stdout",
     "output_type": "stream",
     "text": [
      "using 2D\n",
      "CSV file created successfully.\n"
     ]
    }
   ],
   "source": [
    "create_init_file(config_file, cell_types, centers, radii)"
   ]
  },
  {
   "cell_type": "code",
   "execution_count": null,
   "metadata": {},
   "outputs": [],
   "source": []
  }
 ],
 "metadata": {
  "kernelspec": {
   "display_name": "Python 3 (ipykernel)",
   "language": "python",
   "name": "python3"
  },
  "language_info": {
   "codemirror_mode": {
    "name": "ipython",
    "version": 3
   },
   "file_extension": ".py",
   "mimetype": "text/x-python",
   "name": "python",
   "nbconvert_exporter": "python",
   "pygments_lexer": "ipython3",
   "version": "3.9.7"
  }
 },
 "nbformat": 4,
 "nbformat_minor": 2
}
